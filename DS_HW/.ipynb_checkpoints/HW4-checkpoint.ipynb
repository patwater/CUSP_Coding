{
 "metadata": {
  "name": "",
  "signature": "sha256:a5615f054af55796533ec84474f5b4bee90d0fcf7aeeac2102b111ff4ef8c592"
 },
 "nbformat": 3,
 "nbformat_minor": 0,
 "worksheets": [
  {
   "cells": [
    {
     "cell_type": "code",
     "collapsed": false,
     "input": [
      "import math\n",
      "import random\n",
      "import pymc\n",
      "import pandas as pd\n",
      "import numpy as np\n",
      "import statsmodels.api as sm\n",
      "import statsmodels.formula.api as smf\n",
      "from matplotlib import pyplot as plt\n",
      "pd.options.display.mpl_style = 'default'\n",
      "%matplotlib inline"
     ],
     "language": "python",
     "metadata": {},
     "outputs": [],
     "prompt_number": 20
    },
    {
     "cell_type": "heading",
     "level": 2,
     "metadata": {},
     "source": [
      "1a"
     ]
    },
    {
     "cell_type": "code",
     "collapsed": false,
     "input": [
      "ratMarkov = np.matrix([[.5, .5, 0], [.25, .5, .25], [0, .5, .5]])"
     ],
     "language": "python",
     "metadata": {},
     "outputs": [],
     "prompt_number": 2
    },
    {
     "cell_type": "code",
     "collapsed": false,
     "input": [
      "ratMarkov"
     ],
     "language": "python",
     "metadata": {},
     "outputs": [
      {
       "metadata": {},
       "output_type": "pyout",
       "prompt_number": 3,
       "text": [
        "matrix([[ 0.5 ,  0.5 ,  0.  ],\n",
        "        [ 0.25,  0.5 ,  0.25],\n",
        "        [ 0.  ,  0.5 ,  0.5 ]])"
       ]
      }
     ],
     "prompt_number": 3
    },
    {
     "cell_type": "code",
     "collapsed": false,
     "input": [
      "print \"Two steps ahead\"\n",
      "print ratMarkov ** 2\n",
      "print \"\"\n",
      "print \"Five steps ahead\"\n",
      "print ratMarkov ** 5\n",
      "print \"\"\n",
      "print \"Ten steps ahead\"\n",
      "print ratMarkov ** 10\n",
      "print \"\"\n",
      "print \"25 steps ahead\"\n",
      "print ratMarkov ** 25"
     ],
     "language": "python",
     "metadata": {},
     "outputs": [
      {
       "output_type": "stream",
       "stream": "stdout",
       "text": [
        "Two steps ahead\n",
        "[[ 0.375  0.5    0.125]\n",
        " [ 0.25   0.5    0.25 ]\n",
        " [ 0.125  0.5    0.375]]\n",
        "\n",
        "Five steps ahead\n",
        "[[ 0.265625  0.5       0.234375]\n",
        " [ 0.25      0.5       0.25    ]\n",
        " [ 0.234375  0.5       0.265625]]\n",
        "\n",
        "Ten steps ahead\n",
        "[[ 0.25048828  0.5         0.24951172]\n",
        " [ 0.25        0.5         0.25      ]\n",
        " [ 0.24951172  0.5         0.25048828]]\n",
        "\n",
        "25 steps ahead\n",
        "[[ 0.25000001  0.5         0.24999999]\n",
        " [ 0.25        0.5         0.25      ]\n",
        " [ 0.24999999  0.5         0.25000001]]\n"
       ]
      }
     ],
     "prompt_number": 4
    },
    {
     "cell_type": "heading",
     "level": 2,
     "metadata": {},
     "source": [
      "1b"
     ]
    },
    {
     "cell_type": "code",
     "collapsed": false,
     "input": [
      "absorbingMarkov = np.matrix([[1,0,0],[.25,.5,.25],[0,0,1]])"
     ],
     "language": "python",
     "metadata": {},
     "outputs": [],
     "prompt_number": 5
    },
    {
     "cell_type": "code",
     "collapsed": false,
     "input": [
      "print \"Five steps ahead\"\n",
      "print absorbingMarkov ** 5\n",
      "print \"\"\n",
      "print \"Ten steps ahead\"\n",
      "print absorbingMarkov ** 10\n",
      "print \"\"\n",
      "print \"25 steps ahead\"\n",
      "print absorbingMarkov ** 25"
     ],
     "language": "python",
     "metadata": {},
     "outputs": [
      {
       "output_type": "stream",
       "stream": "stdout",
       "text": [
        "Five steps ahead\n",
        "[[ 1.        0.        0.      ]\n",
        " [ 0.484375  0.03125   0.484375]\n",
        " [ 0.        0.        1.      ]]\n",
        "\n",
        "Ten steps ahead\n",
        "[[  1.00000000e+00   0.00000000e+00   0.00000000e+00]\n",
        " [  4.99511719e-01   9.76562500e-04   4.99511719e-01]\n",
        " [  0.00000000e+00   0.00000000e+00   1.00000000e+00]]\n",
        "\n",
        "25 steps ahead\n",
        "[[  1.00000000e+00   0.00000000e+00   0.00000000e+00]\n",
        " [  4.99999985e-01   2.98023224e-08   4.99999985e-01]\n",
        " [  0.00000000e+00   0.00000000e+00   1.00000000e+00]]\n"
       ]
      }
     ],
     "prompt_number": 6
    },
    {
     "cell_type": "markdown",
     "metadata": {},
     "source": [
      "This appears to be converging towards staying at A if begun in A and staying in C if begun in C (obviously per the absorbtion rule) and splitting equally between A and C with none in B if begun in B."
     ]
    },
    {
     "cell_type": "code",
     "collapsed": false,
     "input": [
      "print \"10k steps ahead\"\n",
      "print absorbingMarkov ** 10000"
     ],
     "language": "python",
     "metadata": {},
     "outputs": [
      {
       "output_type": "stream",
       "stream": "stdout",
       "text": [
        "10k steps ahead\n",
        "[[ 1.   0.   0. ]\n",
        " [ 0.5  0.   0.5]\n",
        " [ 0.   0.   1. ]]\n"
       ]
      }
     ],
     "prompt_number": 7
    },
    {
     "cell_type": "markdown",
     "metadata": {},
     "source": [
      "Yup as the number of steps becomes arbitrarily large the series converges for beginning in B to .5 in A, 0 in B and .5 in C.  This appears to imply that absorbtion states are the \"final resting place\" as the number of N becomes arbitrarily large."
     ]
    },
    {
     "cell_type": "heading",
     "level": 2,
     "metadata": {},
     "source": [
      "1c"
     ]
    },
    {
     "cell_type": "code",
     "collapsed": false,
     "input": [
      "maze = np.matrix([[1,0,0,0,0],[.25,.5,.25,0,0],[0,.25,.5,.25,0],[0,0,.25,.5,.25],[0,0,0,.5,.5]])"
     ],
     "language": "python",
     "metadata": {},
     "outputs": [],
     "prompt_number": 8
    },
    {
     "cell_type": "code",
     "collapsed": false,
     "input": [
      "maze"
     ],
     "language": "python",
     "metadata": {},
     "outputs": [
      {
       "metadata": {},
       "output_type": "pyout",
       "prompt_number": 9,
       "text": [
        "matrix([[ 1.  ,  0.  ,  0.  ,  0.  ,  0.  ],\n",
        "        [ 0.25,  0.5 ,  0.25,  0.  ,  0.  ],\n",
        "        [ 0.  ,  0.25,  0.5 ,  0.25,  0.  ],\n",
        "        [ 0.  ,  0.  ,  0.25,  0.5 ,  0.25],\n",
        "        [ 0.  ,  0.  ,  0.  ,  0.5 ,  0.5 ]])"
       ]
      }
     ],
     "prompt_number": 9
    },
    {
     "cell_type": "markdown",
     "metadata": {},
     "source": [
      "My hypothesis is that as n becomes arbitrarily large the probability will converge to 1 for room A and zero otherwise regardless of what room the rat starts in."
     ]
    },
    {
     "cell_type": "code",
     "collapsed": false,
     "input": [
      "for i in xrange(5,106,25):\n",
      "    print str(i)+\" steps\"\n",
      "    print maze**i\n",
      "    print \"\""
     ],
     "language": "python",
     "metadata": {},
     "outputs": [
      {
       "output_type": "stream",
       "stream": "stdout",
       "text": [
        "5 steps\n",
        "[[ 1.          0.          0.          0.          0.        ]\n",
        " [ 0.54882812  0.12890625  0.16210938  0.1171875   0.04296875]\n",
        " [ 0.2265625   0.16210938  0.24609375  0.24804688  0.1171875 ]\n",
        " [ 0.06640625  0.1171875   0.24804688  0.36328125  0.20507812]\n",
        " [ 0.0234375   0.0859375   0.234375    0.41015625  0.24609375]]\n",
        "\n",
        "30 steps\n",
        "[[ 1.          0.          0.          0.          0.        ]\n",
        " [ 0.84983464  0.02286712  0.04224576  0.05518738  0.0298651 ]\n",
        " [ 0.7225364   0.04224576  0.0780545   0.10197595  0.05518738]\n",
        " [ 0.63748393  0.05518738  0.10197595  0.13324188  0.07211086]\n",
        " [ 0.60761883  0.05973019  0.11037476  0.14422171  0.0780545 ]]\n",
        "\n",
        "55 steps\n",
        "[[ 1.          0.          0.          0.          0.        ]\n",
        " [ 0.94308179  0.00866528  0.01601135  0.02091984  0.01132173]\n",
        " [ 0.89482887  0.01601135  0.02958512  0.03865482  0.02091984]\n",
        " [ 0.86258729  0.02091984  0.03865482  0.05050496  0.02733309]\n",
        " [ 0.85126556  0.02264347  0.04183968  0.05466617  0.02958512]]\n",
        "\n",
        "80 steps\n",
        "[[ 1.          0.          0.          0.          0.        ]\n",
        " [ 0.97842513  0.00328458  0.00606911  0.00792967  0.00429151]\n",
        " [ 0.96013484  0.00606911  0.01121425  0.01465213  0.00792967]\n",
        " [ 0.94791366  0.00792967  0.01465213  0.01914393  0.01036062]\n",
        " [ 0.94362215  0.00858302  0.01585935  0.02072124  0.01121425]]\n",
        "\n",
        "105 steps\n",
        "[[ 1.          0.          0.          0.          0.        ]\n",
        " [ 0.99182204  0.00124502  0.0023005   0.00300575  0.0016267 ]\n",
        " [ 0.98488909  0.0023005   0.00425077  0.00555389  0.00300575]\n",
        " [ 0.98025665  0.00300575  0.00555389  0.00725651  0.0039272 ]\n",
        " [ 0.97862995  0.0032534   0.00601149  0.00785439  0.00425077]]\n",
        "\n"
       ]
      }
     ],
     "prompt_number": 10
    },
    {
     "cell_type": "code",
     "collapsed": false,
     "input": [
      "print \"10000 steps\"\n",
      "print maze ** 10000"
     ],
     "language": "python",
     "metadata": {},
     "outputs": [
      {
       "output_type": "stream",
       "stream": "stdout",
       "text": [
        "10000 steps\n",
        "[[  1.00000000e+000   0.00000000e+000   0.00000000e+000   0.00000000e+000\n",
        "    0.00000000e+000]\n",
        " [  1.00000000e+000   2.20514023e-170   4.07456786e-170   5.32367946e-170\n",
        "    2.88115456e-170]\n",
        " [  1.00000000e+000   4.07456786e-170   7.52881969e-170   9.83687698e-170\n",
        "    5.32367946e-170]\n",
        " [  1.00000000e+000   5.32367946e-170   9.83687698e-170   1.28524991e-169\n",
        "    6.95572242e-170]\n",
        " [  1.00000000e+000   5.76230912e-170   1.06473589e-169   1.39114448e-169\n",
        "    7.52881969e-170]]\n"
       ]
      }
     ],
     "prompt_number": 11
    },
    {
     "cell_type": "code",
     "collapsed": false,
     "input": [
      "print \"100000 steps\"\n",
      "print maze ** 100000"
     ],
     "language": "python",
     "metadata": {},
     "outputs": [
      {
       "output_type": "stream",
       "stream": "stdout",
       "text": [
        "100000 steps\n",
        "[[ 1.  0.  0.  0.  0.]\n",
        " [ 1.  0.  0.  0.  0.]\n",
        " [ 1.  0.  0.  0.  0.]\n",
        " [ 1.  0.  0.  0.  0.]\n",
        " [ 1.  0.  0.  0.  0.]]\n"
       ]
      }
     ],
     "prompt_number": 12
    },
    {
     "cell_type": "markdown",
     "metadata": {},
     "source": [
      "If the rat begins in room C, the probability of it ending in room A asymptotically approaches 1.  Again absorbing states tend towards 1 under similar conditions as this scenario (free movement to the absorbing state and a single absorbing state)."
     ]
    },
    {
     "cell_type": "heading",
     "level": 2,
     "metadata": {},
     "source": [
      "2a"
     ]
    },
    {
     "cell_type": "code",
     "collapsed": false,
     "input": [
      "union = pd.read_stata('union_pred.dta')\n",
      "union.head(5)\n",
      "# 21766 rows \u00d7 9 columns"
     ],
     "language": "python",
     "metadata": {},
     "outputs": [
      {
       "html": [
        "<div style=\"max-height:1000px;max-width:1500px;overflow:auto;\">\n",
        "<table border=\"1\" class=\"dataframe\">\n",
        "  <thead>\n",
        "    <tr style=\"text-align: right;\">\n",
        "      <th></th>\n",
        "      <th>idcode</th>\n",
        "      <th>year</th>\n",
        "      <th>age</th>\n",
        "      <th>grade</th>\n",
        "      <th>south</th>\n",
        "      <th>union</th>\n",
        "      <th>black</th>\n",
        "      <th>smsa</th>\n",
        "      <th>prior_union</th>\n",
        "    </tr>\n",
        "  </thead>\n",
        "  <tbody>\n",
        "    <tr>\n",
        "      <th>0</th>\n",
        "      <td> 1</td>\n",
        "      <td> 87</td>\n",
        "      <td> 35</td>\n",
        "      <td> 12</td>\n",
        "      <td> 0</td>\n",
        "      <td> 1</td>\n",
        "      <td> 1</td>\n",
        "      <td> 1</td>\n",
        "      <td> 1</td>\n",
        "    </tr>\n",
        "    <tr>\n",
        "      <th>1</th>\n",
        "      <td> 1</td>\n",
        "      <td> 83</td>\n",
        "      <td> 31</td>\n",
        "      <td> 12</td>\n",
        "      <td> 0</td>\n",
        "      <td> 1</td>\n",
        "      <td> 1</td>\n",
        "      <td> 1</td>\n",
        "      <td> 1</td>\n",
        "    </tr>\n",
        "    <tr>\n",
        "      <th>2</th>\n",
        "      <td> 1</td>\n",
        "      <td> 77</td>\n",
        "      <td> 25</td>\n",
        "      <td> 12</td>\n",
        "      <td> 0</td>\n",
        "      <td> 0</td>\n",
        "      <td> 1</td>\n",
        "      <td> 1</td>\n",
        "      <td> 1</td>\n",
        "    </tr>\n",
        "    <tr>\n",
        "      <th>3</th>\n",
        "      <td> 1</td>\n",
        "      <td> 88</td>\n",
        "      <td> 37</td>\n",
        "      <td> 12</td>\n",
        "      <td> 0</td>\n",
        "      <td> 1</td>\n",
        "      <td> 1</td>\n",
        "      <td> 1</td>\n",
        "      <td> 0</td>\n",
        "    </tr>\n",
        "    <tr>\n",
        "      <th>4</th>\n",
        "      <td> 1</td>\n",
        "      <td> 85</td>\n",
        "      <td> 33</td>\n",
        "      <td> 12</td>\n",
        "      <td> 0</td>\n",
        "      <td> 1</td>\n",
        "      <td> 1</td>\n",
        "      <td> 1</td>\n",
        "      <td> 1</td>\n",
        "    </tr>\n",
        "  </tbody>\n",
        "</table>\n",
        "</div>"
       ],
       "metadata": {},
       "output_type": "pyout",
       "prompt_number": 30,
       "text": [
        "   idcode  year  age  grade  south  union  black  smsa  prior_union\n",
        "0       1    87   35     12      0      1      1     1            1\n",
        "1       1    83   31     12      0      1      1     1            1\n",
        "2       1    77   25     12      0      0      1     1            1\n",
        "3       1    88   37     12      0      1      1     1            0\n",
        "4       1    85   33     12      0      1      1     1            1"
       ]
      }
     ],
     "prompt_number": 30
    },
    {
     "cell_type": "code",
     "collapsed": false,
     "input": [
      "continUnion, leftUnion, newUnion, notUnion = 0,0,0,0\n",
      "\n",
      "for i in xrange(len(union['union'])):    \n",
      "    if union['union'][i]==1 and union['prior_union'][i] ==1:\n",
      "        continUnion += 1\n",
      "    if union['union'][i]==0 and union['prior_union'][i] ==1:\n",
      "        leftUnion += 1\n",
      "    if union['union'][i]==1 and union['prior_union'][i] ==0:\n",
      "        newUnion += 1\n",
      "    if union['union'][i]==0 and union['prior_union'][i] ==0:\n",
      "        notUnion += 1"
     ],
     "language": "python",
     "metadata": {},
     "outputs": [],
     "prompt_number": 3
    },
    {
     "cell_type": "code",
     "collapsed": false,
     "input": [
      "print \"notU    Union\"\n",
      "print notUnion,\" \", newUnion\n",
      "print leftUnion,\"  \", continUnion"
     ],
     "language": "python",
     "metadata": {},
     "outputs": [
      {
       "output_type": "stream",
       "stream": "stdout",
       "text": [
        "notU    Union\n",
        "14758   2086\n",
        "2110    2812\n"
       ]
      }
     ],
     "prompt_number": 4
    },
    {
     "cell_type": "code",
     "collapsed": false,
     "input": [
      "pd.crosstab(union['union'],union['prior_union'])"
     ],
     "language": "python",
     "metadata": {},
     "outputs": [
      {
       "html": [
        "<div style=\"max-height:1000px;max-width:1500px;overflow:auto;\">\n",
        "<table border=\"1\" class=\"dataframe\">\n",
        "  <thead>\n",
        "    <tr style=\"text-align: right;\">\n",
        "      <th>prior_union</th>\n",
        "      <th>0.0</th>\n",
        "      <th>1.0</th>\n",
        "    </tr>\n",
        "    <tr>\n",
        "      <th>union</th>\n",
        "      <th></th>\n",
        "      <th></th>\n",
        "    </tr>\n",
        "  </thead>\n",
        "  <tbody>\n",
        "    <tr>\n",
        "      <th>0</th>\n",
        "      <td> 14758</td>\n",
        "      <td> 2110</td>\n",
        "    </tr>\n",
        "    <tr>\n",
        "      <th>1</th>\n",
        "      <td>  2086</td>\n",
        "      <td> 2812</td>\n",
        "    </tr>\n",
        "  </tbody>\n",
        "</table>\n",
        "</div>"
       ],
       "metadata": {},
       "output_type": "pyout",
       "prompt_number": 6,
       "text": [
        "prior_union      0     1\n",
        "union                   \n",
        "0            14758  2110\n",
        "1             2086  2812"
       ]
      }
     ],
     "prompt_number": 6
    },
    {
     "cell_type": "code",
     "collapsed": false,
     "input": [
      "print \"notU              Union\"\n",
      "print notUnion/float(notUnion+newUnion),\" \", newUnion/float(notUnion+newUnion)\n",
      "print leftUnion/float(leftUnion+continUnion),\" \", continUnion/float(leftUnion+continUnion)"
     ],
     "language": "python",
     "metadata": {},
     "outputs": [
      {
       "output_type": "stream",
       "stream": "stdout",
       "text": [
        "notU              Union\n",
        "0.876157682261   0.123842317739\n",
        "0.428687525396   0.571312474604\n"
       ]
      }
     ],
     "prompt_number": 16
    },
    {
     "cell_type": "heading",
     "level": 2,
     "metadata": {},
     "source": [
      "2b"
     ]
    },
    {
     "cell_type": "code",
     "collapsed": false,
     "input": [
      "logitModel = sm.Logit(union['union'],sm.add_constant(union[['age','grade', 'smsa','south','black','year','prior_union']]))\n",
      "logitResult = logitModel.fit()\n",
      "\n",
      "print logitResult.summary()"
     ],
     "language": "python",
     "metadata": {},
     "outputs": [
      {
       "output_type": "stream",
       "stream": "stdout",
       "text": [
        "Optimization terminated successfully.\n",
        "         Current function value: 0.434740\n",
        "         Iterations 6\n",
        "                           Logit Regression Results                           \n",
        "==============================================================================\n",
        "Dep. Variable:                  union   No. Observations:                21766\n",
        "Model:                          Logit   Df Residuals:                    21758\n",
        "Method:                           MLE   Df Model:                            7\n",
        "Date:                Fri, 24 Oct 2014   Pseudo R-squ.:                  0.1847\n",
        "Time:                        19:32:55   Log-Likelihood:                -9462.5\n",
        "converged:                       True   LL-Null:                       -11606.\n",
        "                                        LLR p-value:                     0.000\n",
        "===============================================================================\n",
        "                  coef    std err          z      P>|z|      [95.0% Conf. Int.]\n",
        "-------------------------------------------------------------------------------\n",
        "const          -2.2960      0.385     -5.959      0.000        -3.051    -1.541\n",
        "age             0.0237      0.006      3.846      0.000         0.012     0.036\n",
        "grade           0.0464      0.008      5.911      0.000         0.031     0.062\n",
        "smsa            0.0476      0.043      1.099      0.272        -0.037     0.132\n",
        "south          -0.6630      0.042    -15.734      0.000        -0.746    -0.580\n",
        "black           0.5797      0.043     13.404      0.000         0.495     0.664\n",
        "year           -0.0114      0.007     -1.700      0.089        -0.024     0.002\n",
        "prior_union     2.1210      0.038     56.117      0.000         2.047     2.195\n",
        "==============================================================================="
       ]
      },
      {
       "output_type": "stream",
       "stream": "stdout",
       "text": [
        "\n"
       ]
      }
     ],
     "prompt_number": 8
    },
    {
     "cell_type": "code",
     "collapsed": false,
     "input": [
      "logitModel2 = smf.logit(\"union ~ age + grade + smsa + south + black + year + prior_union\", data = union)\n",
      "logitResult2 = logitModel2.fit()\n",
      "\n",
      "print logitResult2.summary()"
     ],
     "language": "python",
     "metadata": {},
     "outputs": [
      {
       "output_type": "stream",
       "stream": "stdout",
       "text": [
        "Optimization terminated successfully.\n",
        "         Current function value: 0.434740\n",
        "         Iterations 6\n",
        "                           Logit Regression Results                           \n",
        "==============================================================================\n",
        "Dep. Variable:                  union   No. Observations:                21766\n",
        "Model:                          Logit   Df Residuals:                    21758\n",
        "Method:                           MLE   Df Model:                            7\n",
        "Date:                Fri, 24 Oct 2014   Pseudo R-squ.:                  0.1847\n",
        "Time:                        19:51:21   Log-Likelihood:                -9462.5\n",
        "converged:                       True   LL-Null:                       -11606.\n",
        "                                        LLR p-value:                     0.000\n",
        "===============================================================================\n",
        "                  coef    std err          z      P>|z|      [95.0% Conf. Int.]\n",
        "-------------------------------------------------------------------------------\n",
        "Intercept      -2.2960      0.385     -5.959      0.000        -3.051    -1.541\n",
        "age             0.0237      0.006      3.846      0.000         0.012     0.036\n",
        "grade           0.0464      0.008      5.911      0.000         0.031     0.062\n",
        "smsa            0.0476      0.043      1.099      0.272        -0.037     0.132\n",
        "south          -0.6630      0.042    -15.734      0.000        -0.746    -0.580\n",
        "black           0.5797      0.043     13.404      0.000         0.495     0.664\n",
        "year           -0.0114      0.007     -1.700      0.089        -0.024     0.002\n",
        "prior_union     2.1210      0.038     56.117      0.000         2.047     2.195\n",
        "==============================================================================="
       ]
      },
      {
       "output_type": "stream",
       "stream": "stdout",
       "text": [
        "\n"
       ]
      }
     ],
     "prompt_number": 31
    },
    {
     "cell_type": "heading",
     "level": 2,
     "metadata": {},
     "source": [
      "2c"
     ]
    },
    {
     "cell_type": "code",
     "collapsed": false,
     "input": [
      "# 21766 rows \u00d7 9 columns\n",
      "\n",
      "union['prior_union'] = 0\n",
      "# union['prior_union1'] = [1 for x in xrange(21766)]"
     ],
     "language": "python",
     "metadata": {},
     "outputs": [],
     "prompt_number": 32
    },
    {
     "cell_type": "code",
     "collapsed": false,
     "input": [
      "union.head(5)"
     ],
     "language": "python",
     "metadata": {},
     "outputs": [
      {
       "html": [
        "<div style=\"max-height:1000px;max-width:1500px;overflow:auto;\">\n",
        "<table border=\"1\" class=\"dataframe\">\n",
        "  <thead>\n",
        "    <tr style=\"text-align: right;\">\n",
        "      <th></th>\n",
        "      <th>idcode</th>\n",
        "      <th>year</th>\n",
        "      <th>age</th>\n",
        "      <th>grade</th>\n",
        "      <th>south</th>\n",
        "      <th>union</th>\n",
        "      <th>black</th>\n",
        "      <th>smsa</th>\n",
        "      <th>prior_union</th>\n",
        "      <th>prior_union0</th>\n",
        "      <th>prior_union1</th>\n",
        "    </tr>\n",
        "  </thead>\n",
        "  <tbody>\n",
        "    <tr>\n",
        "      <th>0</th>\n",
        "      <td> 1</td>\n",
        "      <td> 87</td>\n",
        "      <td> 35</td>\n",
        "      <td> 12</td>\n",
        "      <td> 0</td>\n",
        "      <td> 1</td>\n",
        "      <td> 1</td>\n",
        "      <td> 1</td>\n",
        "      <td> 1</td>\n",
        "      <td> 0</td>\n",
        "      <td> 1</td>\n",
        "    </tr>\n",
        "    <tr>\n",
        "      <th>1</th>\n",
        "      <td> 1</td>\n",
        "      <td> 83</td>\n",
        "      <td> 31</td>\n",
        "      <td> 12</td>\n",
        "      <td> 0</td>\n",
        "      <td> 1</td>\n",
        "      <td> 1</td>\n",
        "      <td> 1</td>\n",
        "      <td> 1</td>\n",
        "      <td> 0</td>\n",
        "      <td> 1</td>\n",
        "    </tr>\n",
        "    <tr>\n",
        "      <th>2</th>\n",
        "      <td> 1</td>\n",
        "      <td> 77</td>\n",
        "      <td> 25</td>\n",
        "      <td> 12</td>\n",
        "      <td> 0</td>\n",
        "      <td> 0</td>\n",
        "      <td> 1</td>\n",
        "      <td> 1</td>\n",
        "      <td> 1</td>\n",
        "      <td> 0</td>\n",
        "      <td> 1</td>\n",
        "    </tr>\n",
        "    <tr>\n",
        "      <th>3</th>\n",
        "      <td> 1</td>\n",
        "      <td> 88</td>\n",
        "      <td> 37</td>\n",
        "      <td> 12</td>\n",
        "      <td> 0</td>\n",
        "      <td> 1</td>\n",
        "      <td> 1</td>\n",
        "      <td> 1</td>\n",
        "      <td> 0</td>\n",
        "      <td> 0</td>\n",
        "      <td> 1</td>\n",
        "    </tr>\n",
        "    <tr>\n",
        "      <th>4</th>\n",
        "      <td> 1</td>\n",
        "      <td> 85</td>\n",
        "      <td> 33</td>\n",
        "      <td> 12</td>\n",
        "      <td> 0</td>\n",
        "      <td> 1</td>\n",
        "      <td> 1</td>\n",
        "      <td> 1</td>\n",
        "      <td> 1</td>\n",
        "      <td> 0</td>\n",
        "      <td> 1</td>\n",
        "    </tr>\n",
        "  </tbody>\n",
        "</table>\n",
        "</div>"
       ],
       "metadata": {},
       "output_type": "pyout",
       "prompt_number": 10,
       "text": [
        "   idcode  year  age  grade  south  union  black  smsa  prior_union  \\\n",
        "0       1    87   35     12      0      1      1     1            1   \n",
        "1       1    83   31     12      0      1      1     1            1   \n",
        "2       1    77   25     12      0      0      1     1            1   \n",
        "3       1    88   37     12      0      1      1     1            0   \n",
        "4       1    85   33     12      0      1      1     1            1   \n",
        "\n",
        "   prior_union0  prior_union1  \n",
        "0             0             1  \n",
        "1             0             1  \n",
        "2             0             1  \n",
        "3             0             1  \n",
        "4             0             1  "
       ]
      }
     ],
     "prompt_number": 10
    },
    {
     "cell_type": "code",
     "collapsed": false,
     "input": [
      "pred01 = logitResult2.predict(sm.add_constant(union[['age','grade', 'smsa','south','black','year','prior_union']]))\n",
      "pred00 = []\n",
      "\n",
      "for i in pred01:\n",
      "    pred00.append(1-i)"
     ],
     "language": "python",
     "metadata": {},
     "outputs": [],
     "prompt_number": 35
    },
    {
     "cell_type": "heading",
     "level": 2,
     "metadata": {},
     "source": [
      "2d"
     ]
    },
    {
     "cell_type": "code",
     "collapsed": false,
     "input": [
      "union['prior_union'] = 1\n",
      "\n",
      "pred11 = logitResult2.predict(sm.add_constant(union[['age','grade', 'smsa','south','black','year','prior_union']]))\n",
      "pred10 = []\n",
      "\n",
      "for i in pred11:\n",
      "    pred10.append(1-i)\n",
      "    \n",
      "union['pred01'] = pred01\n",
      "union['pred00'] = pred00\n",
      "union['pred10'] = pred10\n",
      "union['pred11'] = pred11"
     ],
     "language": "python",
     "metadata": {},
     "outputs": [],
     "prompt_number": 37
    },
    {
     "cell_type": "heading",
     "level": 2,
     "metadata": {},
     "source": [
      "2e"
     ]
    },
    {
     "cell_type": "code",
     "collapsed": false,
     "input": [
      "union[['pred01','pred00','pred10','pred11']].mean()"
     ],
     "language": "python",
     "metadata": {},
     "outputs": [
      {
       "metadata": {},
       "output_type": "pyout",
       "prompt_number": 38,
       "text": [
        "pred01    0.128582\n",
        "pred00    0.871418\n",
        "pred10    0.462980\n",
        "pred11    0.537020\n",
        "dtype: float64"
       ]
      }
     ],
     "prompt_number": 38
    },
    {
     "cell_type": "code",
     "collapsed": false,
     "input": [
      "firstRow, secondRow = union[['pred00','pred01']].mean(), union[['pred10','pred11']].mean()\n",
      "\n",
      "markovTable= np.matrix([firstRow, secondRow])\n",
      "markovTable"
     ],
     "language": "python",
     "metadata": {},
     "outputs": [
      {
       "metadata": {},
       "output_type": "pyout",
       "prompt_number": 42,
       "text": [
        "matrix([[ 0.87141806,  0.12858194],\n",
        "        [ 0.46297992,  0.53702008]])"
       ]
      }
     ],
     "prompt_number": 42
    },
    {
     "cell_type": "heading",
     "level": 2,
     "metadata": {},
     "source": [
      "2f"
     ]
    },
    {
     "cell_type": "code",
     "collapsed": false,
     "input": [
      "print \"Two steps ahead\"\n",
      "print markovTable ** 2\n",
      "print \"\"\n",
      "print \"Five steps ahead\"\n",
      "print markovTable ** 5\n",
      "print \"\"\n",
      "print \"Ten steps ahead\"\n",
      "print markovTable ** 10\n",
      "print \"\"\n",
      "print \"25 steps ahead\"\n",
      "print markovTable ** 25"
     ],
     "language": "python",
     "metadata": {},
     "outputs": [
      {
       "output_type": "stream",
       "stream": "stdout",
       "text": [
        "Two steps ahead\n",
        "[[ 0.81890029  0.18109971]\n",
        " [ 0.65207857  0.34792143]]\n",
        "\n",
        "Five steps ahead\n",
        "[[ 0.78511056  0.21488944]\n",
        " [ 0.77374393  0.22625607]]\n",
        "\n",
        "Ten steps ahead\n",
        "[[ 0.78266799  0.21733201]\n",
        " [ 0.78253879  0.21746121]]\n",
        "\n",
        "25 steps ahead\n",
        "[[ 0.78263991  0.21736009]\n",
        " [ 0.78263991  0.21736009]]\n"
       ]
      }
     ],
     "prompt_number": 43
    },
    {
     "cell_type": "code",
     "collapsed": false,
     "input": [
      "for n in [50,100,500,1000]:   \n",
      "    print str(n)+\" steps ahead\"\n",
      "    print markovTable ** n"
     ],
     "language": "python",
     "metadata": {},
     "outputs": [
      {
       "output_type": "stream",
       "stream": "stdout",
       "text": [
        "50 steps ahead\n",
        "[[ 0.78263991  0.21736009]\n",
        " [ 0.78263991  0.21736009]]\n",
        "100 steps ahead\n",
        "[[ 0.78263991  0.21736009]\n",
        " [ 0.78263991  0.21736009]]\n",
        "500 steps ahead\n",
        "[[ 0.78263991  0.21736009]\n",
        " [ 0.78263991  0.21736009]]\n",
        "1000 steps ahead\n",
        "[[ 0.78263991  0.21736009]\n",
        " [ 0.78263991  0.21736009]]\n"
       ]
      }
     ],
     "prompt_number": 44
    },
    {
     "cell_type": "markdown",
     "metadata": {},
     "source": [
      "This predicts that in the  long run (roughly 5 years since each step is a year) the proportion of woman in a union will converge to 78% and the proportion of woman not in a union will converge to 22%.  Yes it would be possible to check summary statistics on this.  I believe BLS and orgs like http://www.iwpr.org/initiatives/women-in-unions would be valuable in that effort"
     ]
    },
    {
     "cell_type": "code",
     "collapsed": false,
     "input": [],
     "language": "python",
     "metadata": {},
     "outputs": []
    },
    {
     "cell_type": "heading",
     "level": 2,
     "metadata": {},
     "source": [
      "3a"
     ]
    },
    {
     "cell_type": "code",
     "collapsed": false,
     "input": [
      "normal1 = pd.DataFrame(np.random.normal(0,1,1000))\n",
      "normal2 = pd.DataFrame(np.random.normal(0,2,1000))\n",
      "normal4 = pd.DataFrame(np.random.normal(0,4,1000))"
     ],
     "language": "python",
     "metadata": {},
     "outputs": [],
     "prompt_number": 53
    },
    {
     "cell_type": "code",
     "collapsed": false,
     "input": [
      "normal1.plot()\n",
      "normal2.plot()\n",
      "normal4.plot()"
     ],
     "language": "python",
     "metadata": {},
     "outputs": [
      {
       "metadata": {},
       "output_type": "pyout",
       "prompt_number": 56,
       "text": [
        "<matplotlib.axes.AxesSubplot at 0x180ecb00>"
       ]
      },
      {
       "metadata": {},
       "output_type": "display_data",
       "png": "[encoded data removed]",
       "text": [
        "<matplotlib.figure.Figure at 0x182dbf28>"
       ]
      },
      {
       "metadata": {},
       "output_type": "display_data",
       "png": "[encoded data removed]",
       "text": [
        "<matplotlib.figure.Figure at 0x182dbfd0>"
       ]
      },
      {
       "metadata": {},
       "output_type": "display_data",
       "png": "[encoded data removed]",
       "text": [
        "<matplotlib.figure.Figure at 0x1813fd68>"
       ]
      }
     ],
     "prompt_number": 56
    },
    {
     "cell_type": "heading",
     "level": 2,
     "metadata": {},
     "source": [
      "3b"
     ]
    },
    {
     "cell_type": "code",
     "collapsed": false,
     "input": [
      "x1 = pd.DataFrame(np.random.normal(0,1,1000))\n",
      "x2 = pd.DataFrame(np.random.normal(0,1,1000))"
     ],
     "language": "python",
     "metadata": {},
     "outputs": [],
     "prompt_number": 57
    },
    {
     "cell_type": "code",
     "collapsed": false,
     "input": [
      "x1.head()"
     ],
     "language": "python",
     "metadata": {},
     "outputs": [
      {
       "html": [
        "<div style=\"max-height:1000px;max-width:1500px;overflow:auto;\">\n",
        "<table border=\"1\" class=\"dataframe\">\n",
        "  <thead>\n",
        "    <tr style=\"text-align: right;\">\n",
        "      <th></th>\n",
        "      <th>0</th>\n",
        "    </tr>\n",
        "  </thead>\n",
        "  <tbody>\n",
        "    <tr>\n",
        "      <th>0</th>\n",
        "      <td> 1.316060</td>\n",
        "    </tr>\n",
        "    <tr>\n",
        "      <th>1</th>\n",
        "      <td>-1.253474</td>\n",
        "    </tr>\n",
        "    <tr>\n",
        "      <th>2</th>\n",
        "      <td> 1.370795</td>\n",
        "    </tr>\n",
        "    <tr>\n",
        "      <th>3</th>\n",
        "      <td>-0.601732</td>\n",
        "    </tr>\n",
        "    <tr>\n",
        "      <th>4</th>\n",
        "      <td> 0.650775</td>\n",
        "    </tr>\n",
        "  </tbody>\n",
        "</table>\n",
        "</div>"
       ],
       "metadata": {},
       "output_type": "pyout",
       "prompt_number": 59,
       "text": [
        "          0\n",
        "0  1.316060\n",
        "1 -1.253474\n",
        "2  1.370795\n",
        "3 -0.601732\n",
        "4  0.650775"
       ]
      }
     ],
     "prompt_number": 59
    },
    {
     "cell_type": "code",
     "collapsed": false,
     "input": [
      "x2.head()"
     ],
     "language": "python",
     "metadata": {},
     "outputs": [
      {
       "html": [
        "<div style=\"max-height:1000px;max-width:1500px;overflow:auto;\">\n",
        "<table border=\"1\" class=\"dataframe\">\n",
        "  <thead>\n",
        "    <tr style=\"text-align: right;\">\n",
        "      <th></th>\n",
        "      <th>0</th>\n",
        "    </tr>\n",
        "  </thead>\n",
        "  <tbody>\n",
        "    <tr>\n",
        "      <th>0</th>\n",
        "      <td>-0.962394</td>\n",
        "    </tr>\n",
        "    <tr>\n",
        "      <th>1</th>\n",
        "      <td> 2.989212</td>\n",
        "    </tr>\n",
        "    <tr>\n",
        "      <th>2</th>\n",
        "      <td> 0.070723</td>\n",
        "    </tr>\n",
        "    <tr>\n",
        "      <th>3</th>\n",
        "      <td> 0.336689</td>\n",
        "    </tr>\n",
        "    <tr>\n",
        "      <th>4</th>\n",
        "      <td>-0.144359</td>\n",
        "    </tr>\n",
        "  </tbody>\n",
        "</table>\n",
        "</div>"
       ],
       "metadata": {},
       "output_type": "pyout",
       "prompt_number": 60,
       "text": [
        "          0\n",
        "0 -0.962394\n",
        "1  2.989212\n",
        "2  0.070723\n",
        "3  0.336689\n",
        "4 -0.144359"
       ]
      }
     ],
     "prompt_number": 60
    },
    {
     "cell_type": "code",
     "collapsed": false,
     "input": [
      "model = sm.OLS(x2,sm.add_constant(x1))\n",
      "result = model.fit()\n",
      "print result.summary()"
     ],
     "language": "python",
     "metadata": {},
     "outputs": [
      {
       "output_type": "stream",
       "stream": "stdout",
       "text": [
        "                            OLS Regression Results                            \n",
        "==============================================================================\n",
        "Dep. Variable:                      0   R-squared:                       0.000\n",
        "Model:                            OLS   Adj. R-squared:                 -0.001\n",
        "Method:                 Least Squares   F-statistic:                    0.4036\n",
        "Date:                Thu, 23 Oct 2014   Prob (F-statistic):              0.525\n",
        "Time:                        20:20:23   Log-Likelihood:                -1449.5\n",
        "No. Observations:                1000   AIC:                             2903.\n",
        "Df Residuals:                     998   BIC:                             2913.\n",
        "Df Model:                           1                                         \n",
        "==============================================================================\n",
        "                 coef    std err          t      P>|t|      [95.0% Conf. Int.]\n",
        "------------------------------------------------------------------------------\n",
        "const          0.0064      0.033      0.197      0.844        -0.058     0.071\n",
        "0             -0.0201      0.032     -0.635      0.525        -0.082     0.042\n",
        "==============================================================================\n",
        "Omnibus:                        0.026   Durbin-Watson:                   2.049\n",
        "Prob(Omnibus):                  0.987   Jarque-Bera (JB):                0.033\n",
        "Skew:                           0.012   Prob(JB):                        0.984\n",
        "Kurtosis:                       2.986   Cond. No.                         1.05\n",
        "==============================================================================\n"
       ]
      }
     ],
     "prompt_number": 62
    },
    {
     "cell_type": "code",
     "collapsed": false,
     "input": [
      "print result.params[1]"
     ],
     "language": "python",
     "metadata": {},
     "outputs": [
      {
       "output_type": "stream",
       "stream": "stdout",
       "text": [
        "-0.0201488438737\n"
       ]
      }
     ],
     "prompt_number": 65
    },
    {
     "cell_type": "markdown",
     "metadata": {},
     "source": [
      "Unsurprisingly, this is meaningless."
     ]
    },
    {
     "cell_type": "heading",
     "level": 5,
     "metadata": {},
     "source": [
      "3c"
     ]
    },
    {
     "cell_type": "code",
     "collapsed": false,
     "input": [
      "coefficients = []\n",
      "\n",
      "for n in xrange(1000):\n",
      "    x1 = np.random.normal(0,1,1000)\n",
      "    x2 = np.random.normal(0,1,1000)\n",
      "    \n",
      "    model = sm.OLS(x2,sm.add_constant(x1))\n",
      "    result = model.fit()\n",
      "    coefficients.append(result.params[1])"
     ],
     "language": "python",
     "metadata": {},
     "outputs": [],
     "prompt_number": 45
    },
    {
     "cell_type": "code",
     "collapsed": false,
     "input": [
      "coefDF = pd.DataFrame(coefficients)\n",
      "coefDF.hist()"
     ],
     "language": "python",
     "metadata": {},
     "outputs": [
      {
       "metadata": {},
       "output_type": "pyout",
       "prompt_number": 46,
       "text": [
        "array([[<matplotlib.axes.AxesSubplot object at 0x0000000017F474E0>]], dtype=object)"
       ]
      },
      {
       "metadata": {},
       "output_type": "display_data",
       "png": "[encoded data removed]",
       "text": [
        "<matplotlib.figure.Figure at 0x17f47ac8>"
       ]
      }
     ],
     "prompt_number": 46
    },
    {
     "cell_type": "code",
     "collapsed": false,
     "input": [
      "for n in [50,100,500,1000]: \n",
      "    coefficients = []\n",
      "    for i in xrange(n):\n",
      "        x1 = np.random.normal(0,1,1000)\n",
      "        x2 = np.random.normal(0,1,1000)\n",
      "\n",
      "        model = sm.OLS(x2,sm.add_constant(x1))\n",
      "        result = model.fit()\n",
      "        coefficients.append(result.params[1])\n",
      "\n",
      "    coefDF = pd.DataFrame(coefficients)\n",
      "    coefDF.hist()"
     ],
     "language": "python",
     "metadata": {},
     "outputs": [
      {
       "metadata": {},
       "output_type": "display_data",
       "png": "[encoded data removed]",
       "text": [
        "<matplotlib.figure.Figure at 0x184441d0>"
       ]
      },
      {
       "metadata": {},
       "output_type": "display_data",
       "png": "[encoded data removed]",
       "text": [
        "<matplotlib.figure.Figure at 0x1845cb38>"
       ]
      },
      {
       "metadata": {},
       "output_type": "display_data",
       "png": "[encoded data removed]",
       "text": [
        "<matplotlib.figure.Figure at 0x17f6fe80>"
       ]
      },
      {
       "metadata": {},
       "output_type": "display_data",
       "png": "[encoded data removed]",
       "text": [
        "<matplotlib.figure.Figure at 0x18406ac8>"
       ]
      }
     ],
     "prompt_number": 47
    },
    {
     "cell_type": "code",
     "collapsed": false,
     "input": [],
     "language": "python",
     "metadata": {},
     "outputs": []
    }
   ],
   "metadata": {}
  }
 ]
}