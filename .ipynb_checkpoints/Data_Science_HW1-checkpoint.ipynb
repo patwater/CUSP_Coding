{
 "metadata": {
  "name": "",
  "signature": "sha256:dc4607130ffd8b74a6161b9738841b7de340836edb24c331afe259c2ad6d2788"
 },
 "nbformat": 3,
 "nbformat_minor": 0,
 "worksheets": [
  {
   "cells": [
    {
     "cell_type": "code",
     "collapsed": false,
     "input": [
      "import random\n",
      "import matplotlib.pyplot as plt\n",
      "%matplotlib inline\n",
      "\n",
      "x, y = [], []\n",
      "\n",
      "for i in xrange(10):\n",
      "    x.append(random.randint(0,9))\n",
      "    y.append(random.randint(0,9))\n",
      "    \n",
      "print x, y"
     ],
     "language": "python",
     "metadata": {},
     "outputs": [
      {
       "output_type": "stream",
       "stream": "stdout",
       "text": [
        "[0, 8, 4, 0, 1, 0, 9, 4, 1, 2] [6, 2, 0, 9, 4, 1, 4, 4, 7, 5]\n"
       ]
      }
     ],
     "prompt_number": 13
    },
    {
     "cell_type": "code",
     "collapsed": false,
     "input": [
      "plt.scatter(x,y)\n",
      "plt.show()"
     ],
     "language": "python",
     "metadata": {},
     "outputs": [
      {
       "metadata": {},
       "output_type": "display_data",
       "png": "[encoded data removed]",
       "text": [
        "<matplotlib.figure.Figure at 0x3960cc0>"
       ]
      }
     ],
     "prompt_number": 14
    },
    {
     "cell_type": "code",
     "collapsed": false,
     "input": [
      "def mean(a):\n",
      "    return float(sum(a))/float(len(a))\n",
      "\n",
      "print mean(x)\n",
      "print mean(y)"
     ],
     "language": "python",
     "metadata": {},
     "outputs": [
      {
       "output_type": "stream",
       "stream": "stdout",
       "text": [
        "2.9\n",
        "4.2\n"
       ]
      }
     ],
     "prompt_number": 22
    },
    {
     "cell_type": "code",
     "collapsed": false,
     "input": [
      "def variance(a):\n",
      "    v = 0\n",
      "    for i in a:\n",
      "        v += (i - mean(a))**2\n",
      "    return v/float(len(a)-1)\n",
      "\n",
      "print variance(x)\n",
      "print variance(y)"
     ],
     "language": "python",
     "metadata": {},
     "outputs": [
      {
       "output_type": "stream",
       "stream": "stdout",
       "text": [
        "10.9888888889\n",
        "7.51111111111\n"
       ]
      }
     ],
     "prompt_number": 25
    },
    {
     "cell_type": "code",
     "collapsed": false,
     "input": [
      "def std_dev(a):\n",
      "    return variance(a)**.5\n",
      "\n",
      "print std_dev(x)\n",
      "print std_dev(y)"
     ],
     "language": "python",
     "metadata": {},
     "outputs": [
      {
       "output_type": "stream",
       "stream": "stdout",
       "text": [
        "3.31494930412\n",
        "2.74064063881\n"
       ]
      }
     ],
     "prompt_number": 26
    },
    {
     "cell_type": "code",
     "collapsed": false,
     "input": [
      "def covariance(a,b):\n",
      "    c = 0\n",
      "    for i in xrange(len(a)):\n",
      "        c += (a[i] - mean(a))*(b[i]-mean(b))\n",
      "    return c/float(len(a))\n",
      "\n",
      "print covariance(x,y)"
     ],
     "language": "python",
     "metadata": {},
     "outputs": [
      {
       "output_type": "stream",
       "stream": "stdout",
       "text": [
        "-3.28\n"
       ]
      }
     ],
     "prompt_number": 31
    },
    {
     "cell_type": "code",
     "collapsed": false,
     "input": [
      "def correlation(a,b):\n",
      "    return covariance(a,b)/(std_dev(a)*std_dev(b))\n",
      "\n",
      "print correlation(x,y)"
     ],
     "language": "python",
     "metadata": {},
     "outputs": [
      {
       "output_type": "stream",
       "stream": "stdout",
       "text": [
        "-0.361031303502\n"
       ]
      }
     ],
     "prompt_number": 32
    },
    {
     "cell_type": "markdown",
     "metadata": {},
     "source": [
      "g.\tGiven the results above, suppose I ask you to predict the value of Y if I give you a value of X = 13.  How would you respond?\n",
      "\n",
      "Let's presume first that we know nothing about how the data is generated.  First, we should note that X=13 lies outside the range of our x values.  So we are extrapolating beyond our collected data (rather than interpolating within) and need to be thoughtful in our choice and think deeply about the question we are looking to answer.  Second we should note that x and y are negatively correlated so we might consider fitting a trend line to extrapolate.\n",
      "\n",
      "Here we know here that both X and Y are both random numbers generated between 0 and 9.  Given the above statistics, the best guess for (Y | X =13) would be E(Y).  If we were frequentists, we would choose the observed mean or 4.2 in this particular ipython notebook run (likely different if you run again).  If we were Bayesians, we would use our prior knowledge -- namely the fact that we know the data generating process -- and choose the sum 0,1,2,3,...,9 divided by 10 or 4.5."
     ]
    },
    {
     "cell_type": "markdown",
     "metadata": {},
     "source": [
      "2.\tRecall we discussed the role that random variables play in applied data science.  We also discussed the distinction between discrete and continuous random variables.  For the random variables below, indicate the more appropriate random variable (discrete or continuous) and why you believe this to be the case. [7 Points]\n",
      "a.\tThe number of taxi rides taken in a month by a NYC resident.  \n",
      "\u2013 Discrete -- this will take on the value of whole, finite numbers.\n",
      "b.\tThe speed of a bicyclist on Jay Street.  \n",
      "- Continuous -- you can have any speed within the range of their physical ability.\n",
      "c.\tThe luminosity of light emitted by street lamps in Brooklyn.  \n",
      "- Continuous -- there is a spectrum of luminosity values and we might measure any of them.\n",
      "d.\tThe income of bankers working on Wall Street.  \n",
      "- Continuous -- although the values cannot vary within $0.01, this is effectively continuous for our purposes.\n",
      "e.\tThe number of hotels in Manhattan.  \n",
      "- Discrete -- you can't have half a hotel.\n",
      "f.\tThe ambient sound generated by trash trucks picking up trash at midnight.\n",
      "- Continuous -- there is a spectrum of noise volume upon which our ambient sound measurement might fall.\n",
      "g.\tThe quality of coffee served in the student lounge\n",
      "- This one is tricky.  We might imagine several axes upon which we might measure coffee quality: how good it tastes, how good it smells, the pleasantness of the temperature, etc. etc. We might then attempt to measure the coffee quality through an aggregated continuous measure (say ranking along each of those axes between 0 and 10 inclusive and then averaging) or we might simply have a simple categorical variable (good, so so, bad) that we convert into a set of discrete values (say 0,1,2 respectively) for modeling purposes."
     ]
    },
    {
     "cell_type": "markdown",
     "metadata": {},
     "source": [
      "3.\tConsider the salaries of bankers on Wall Street.  One argument that could be advanced is that Wall Street bankers have high salaries because they have attained high levels of education.  Another argument could be advanced that Wall Street banker have high salaries because they have high Intelligence Quotients (IQ).  If you had a dataset that provided you with the salaries of a sample of Wall Street bankers, together with their education levels and IQs, discuss how you might explore these arguments.  Are there other methods beyond relying on this sample of bankers that could allow you to explore these arguments?  (As with most applied data analytics, there is no right or wrong answer to this question.  You may find it helpful to consider what we discussed in class to address it.)  [6 points]\n",
      "\n",
      "A good first step would be to understand our data set.  How was it collected?  Who participated?  Who didn't participate?  How was it funded?  Those sorts of questions will help to illuminate how our data set is biased.  \n",
      "\n",
      "Second, we might do simple scatter plots of banker salaries against education level and IQ to get a sense of the data.  From there we might conduct a simple linear regression of banker salaries on education level and IQ to acquire a naive slope coefficient to understand how more education or greater IQ correlates to a given change in banker salary.  We might increase the robustness of our model by adding more data such as age or height (both of which could correlate positively with higher salaries) to control for more factors.\n",
      "\n",
      "That model does not directly answer our question, however.  We should note however that that our sampled bankers do not exist in isolation.  There are a variety of other fields that highly educated, high IQ persons might go into.  If the cause of high salaries were high education levels or high IQ levels, we would expect high salaries for people with those attributes acrosss industries.  So we could test for that.\n",
      "\n",
      "We might also dig deeper to see if there are any root causes affecting high salaries through both education and IQ.  Maybe both education level and IQ are being driven by a combination of genetics and how their parents raised them.\n",
      "\n",
      "Per the mostly harmless guide to econometrics, we might also reflect on what sort of experiment we might conduct to test these arguments in a world with zero budget constraint and zero ethical limitations to refine our understanding of this more limited analysis.   \n",
      "\n",
      "In that vein we might imagine having a randomly selected set of people with differing education or IQ levels work at a bank and measuring any salary differences that emerge. This sort of thought experiment helps clarify our original question.  What's the mechanism that we're testing for?  Is it that high education or high IQ is a necessary condition for high salaries that becomes sufficient in the context of banking?  "
     ]
    }
   ],
   "metadata": {}
  }
 ]
}