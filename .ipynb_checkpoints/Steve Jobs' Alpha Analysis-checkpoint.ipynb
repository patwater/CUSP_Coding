{
 "metadata": {
  "name": "",
  "signature": "sha256:2d3ddc7ba5c905cdcca09d0f8e84886ae0f534ffe7c59f7013910f9b6f741536"
 },
 "nbformat": 3,
 "nbformat_minor": 0,
 "worksheets": [
  {
   "cells": [
    {
     "cell_type": "markdown",
     "metadata": {},
     "source": [
      "DO APPLE AND SEE STEVE JOBS\u2019 ALPHA WHEN RETURNING VS HIS ABSENCE VS APPLE AS A PUBLIC COMPANY TO HIS EXIT (particularly note the second derivative \n",
      "Tricky thing with setting any sort of lag into apple in Jobs\u2019 return is that you sorta embed the answer to the question in how you ask it i.e. what dates you choose as when Jobs\u2019 new leadership begins to take effect\n",
      "https://www.quandl.com/help/python\n",
      "mydata = Quandl.get(\u201cWIKI/AAPL\u201d) gets ticker data since I believe it opened\n"
     ]
    }
   ],
   "metadata": {}
  }
 ]
}