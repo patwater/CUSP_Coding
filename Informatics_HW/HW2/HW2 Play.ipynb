{
 "metadata": {
  "name": "",
  "signature": "sha256:0e9ecbe71df9e797fc6410097a994de70cff01c50a0633bf631d0cde01399d45"
 },
 "nbformat": 3,
 "nbformat_minor": 0,
 "worksheets": [
  {
   "cells": [
    {
     "cell_type": "code",
     "collapsed": false,
     "input": [
      "ls"
     ],
     "language": "python",
     "metadata": {},
     "outputs": [
      {
       "output_type": "stream",
       "stream": "stdout",
       "text": [
        " Volume in drive C is Windows\n",
        " Volume Serial Number is 3455-9DF0\n",
        "\n",
        " Directory of C:\\Users\\patwater\\Documents\\GitHub\\CUSP_Coding\\Informatics_HW\\HW2\n",
        "\n",
        "09/18/2014  06:17 PM    <DIR>          .\n",
        "09/18/2014  06:17 PM    <DIR>          ..\n",
        "09/18/2014  06:17 PM    <DIR>          .ipynb_checkpoints\n",
        "09/18/2014  06:17 PM               189 HW2 Play.ipynb\n",
        "09/17/2014  12:16 PM            27,217 NYC_Jobs_sample.csv\n",
        "09/18/2014  05:58 PM             3,122 PA_DB.py\n",
        "09/18/2014  05:56 PM             4,174 sample_code_w_lab.py\n",
        "09/18/2014  10:19 AM               793 sample_data_problem_1.txt\n",
        "09/18/2014  10:22 AM             1,006 sample_data_problem_2.txt\n",
        "09/18/2014  10:23 AM               700 sample_data_problem_3.txt\n",
        "09/18/2014  10:23 AM               702 sample_data_problem_4.txt\n",
        "09/18/2014  10:23 AM               853 sample_data_problem_5.txt\n",
        "09/18/2014  10:23 AM               861 sample_data_problem_6.txt\n",
        "              10 File(s)         39,617 bytes\n",
        "               3 Dir(s)  55,387,107,328 bytes free\n"
       ]
      }
     ],
     "prompt_number": 1
    },
    {
     "cell_type": "code",
     "collapsed": false,
     "input": [
      "with open(NYC_Jobs_sample.csv) as raw_file:\n",
      "    data = []\n",
      "    for line in raw_file:\n",
      "        data.append(line.split(\",\"))"
     ],
     "language": "python",
     "metadata": {},
     "outputs": [
      {
       "ename": "NameError",
       "evalue": "name 'NYC_Jobs_sample' is not defined",
       "output_type": "pyerr",
       "traceback": [
        "\u001b[1;31m---------------------------------------------------------------------------\u001b[0m\n\u001b[1;31mNameError\u001b[0m                                 Traceback (most recent call last)",
        "\u001b[1;32m<ipython-input-2-194aa15a7de2>\u001b[0m in \u001b[0;36m<module>\u001b[1;34m()\u001b[0m\n\u001b[1;32m----> 1\u001b[1;33m \u001b[1;32mwith\u001b[0m \u001b[0mopen\u001b[0m\u001b[1;33m(\u001b[0m\u001b[0mNYC_Jobs_sample\u001b[0m\u001b[1;33m.\u001b[0m\u001b[0mcsv\u001b[0m\u001b[1;33m)\u001b[0m \u001b[1;32mas\u001b[0m \u001b[0mraw_file\u001b[0m\u001b[1;33m:\u001b[0m\u001b[1;33m\u001b[0m\u001b[0m\n\u001b[0m\u001b[0;32m      2\u001b[0m     \u001b[0mdata\u001b[0m \u001b[1;33m=\u001b[0m \u001b[1;33m[\u001b[0m\u001b[1;33m]\u001b[0m\u001b[1;33m\u001b[0m\u001b[0m\n\u001b[0;32m      3\u001b[0m     \u001b[1;32mfor\u001b[0m \u001b[0mline\u001b[0m \u001b[1;32min\u001b[0m \u001b[0mraw_file\u001b[0m\u001b[1;33m:\u001b[0m\u001b[1;33m\u001b[0m\u001b[0m\n\u001b[0;32m      4\u001b[0m         \u001b[0mdata\u001b[0m\u001b[1;33m.\u001b[0m\u001b[0mappend\u001b[0m\u001b[1;33m(\u001b[0m\u001b[0mline\u001b[0m\u001b[1;33m.\u001b[0m\u001b[0msplit\u001b[0m\u001b[1;33m(\u001b[0m\u001b[1;34m\",\"\u001b[0m\u001b[1;33m)\u001b[0m\u001b[1;33m)\u001b[0m\u001b[1;33m\u001b[0m\u001b[0m\n",
        "\u001b[1;31mNameError\u001b[0m: name 'NYC_Jobs_sample' is not defined"
       ]
      }
     ],
     "prompt_number": 2
    },
    {
     "cell_type": "code",
     "collapsed": false,
     "input": [],
     "language": "python",
     "metadata": {},
     "outputs": []
    }
   ],
   "metadata": {}
  }
 ]
}