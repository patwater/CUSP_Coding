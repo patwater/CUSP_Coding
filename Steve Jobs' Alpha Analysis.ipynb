{
 "metadata": {
  "name": "",
  "signature": "sha256:4aa17a004f93ece15df297cd2ddd3884ae74c1804a059668e71ad75ea80ec761"
 },
 "nbformat": 3,
 "nbformat_minor": 0,
 "worksheets": [
  {
   "cells": [
    {
     "cell_type": "markdown",
     "metadata": {},
     "source": [
      "DO APPLE AND SEE STEVE JOBS\u2019 ALPHA WHEN RETURNING VS HIS ABSENCE VS APPLE AS A PUBLIC COMPANY TO HIS EXIT (particularly note the second derivative \n",
      "Tricky thing with setting any sort of lag into apple in Jobs\u2019 return is that you sorta embed the answer to the question in how you ask it i.e. what dates you choose as when Jobs\u2019 new leadership begins to take effect\n",
      "https://www.quandl.com/help/python\n",
      "mydata = Quandl.get(\u201cWIKI/AAPL\u201d) gets ticker data since I believe it opened\n"
     ]
    },
    {
     "cell_type": "code",
     "collapsed": false,
     "input": [
      "ts.between_time()    Return data between specific interval\n",
      "\n"
     ],
     "language": "python",
     "metadata": {},
     "outputs": []
    }
   ],
   "metadata": {}
  }
 ]
}